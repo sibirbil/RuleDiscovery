{
 "cells": [
  {
   "cell_type": "markdown",
   "metadata": {},
   "source": [
    "# Rule Discovery with RUX and RUG\n",
    "\n",
    "In this short note, we use two standard datasets to demonstrate how to use Rule Extractor (RUX) and the rule generator (RUG) algorithms. First we start with importing the necessary packages that we will use in this note. Note that both RUX and RUG are imported from `ruxg`."
   ]
  },
  {
   "cell_type": "code",
   "execution_count": 1,
   "metadata": {},
   "outputs": [],
   "source": [
    "import numpy as np\n",
    "import pandas as pd\n",
    "import Datasets as DS\n",
    "from sklearn.ensemble import RandomForestClassifier, AdaBoostClassifier, GradientBoostingClassifier\n",
    "from sklearn.tree import DecisionTreeClassifier\n",
    "from sklearn.model_selection import train_test_split \n",
    "from sklearn.metrics import accuracy_score\n",
    "from ruxg import RUXClassifier, RUGClassifier"
   ]
  },
  {
   "cell_type": "markdown",
   "metadata": {},
   "source": [
    "You can find this dataset and its description on [this page](https://archive.ics.uci.edu/ml/datasets/ecoli). This dataset has 336 samples with seven features and eight classes. The very last column of the dataframe gives the class labels."
   ]
  },
  {
   "cell_type": "code",
   "execution_count": 2,
   "metadata": {},
   "outputs": [
    {
     "name": "stdout",
     "output_type": "stream",
     "text": [
      "Number of samples:  336\n",
      "number of features:  7\n",
      "Number of classes:  8\n"
     ]
    }
   ],
   "source": [
    "df = np.array(DS.ecoli('datasets/'))\n",
    "X = df[:, 0:-1]\n",
    "y = df[:, -1]\n",
    "print('Number of samples: ', len(y))\n",
    "print('number of features: ', len(X[0,:]))\n",
    "print('Number of classes: ', len(np.unique(y)))"
   ]
  },
  {
   "cell_type": "markdown",
   "metadata": {},
   "source": [
    "To use RUX for interpretation, we first train a Random Forest model, an AdaBoost model, and a Gradient Booosting model. The depth of the trees in each one of the three ensemble methods is set to three."
   ]
  },
  {
   "cell_type": "code",
   "execution_count": 3,
   "metadata": {},
   "outputs": [],
   "source": [
    "randomState = 21\n",
    "maxDepth = 3\n",
    "\n",
    "X_train, X_test, y_train, y_test = \\\n",
    "    train_test_split(X, y, random_state=randomState)\n",
    "\n",
    "# Random Forest\n",
    "RF = RandomForestClassifier(max_depth=maxDepth, random_state=randomState)\n",
    "RF_pred = RF.fit(X_train, y_train).predict(X_test)\n",
    "\n",
    "# AdaBoost\n",
    "ADA = AdaBoostClassifier(base_estimator=DecisionTreeClassifier(max_depth=maxDepth),\n",
    "                            algorithm='SAMME',\n",
    "                            random_state=randomState)\n",
    "ADA_pred = ADA.fit(X_train, y_train).predict(X_test)\n",
    "\n",
    "# Gradient Boosting\n",
    "GB = GradientBoostingClassifier(max_depth=maxDepth, random_state=randomState)\n",
    "GB_pred = GB.fit(X_train, y_train).predict(X_test)"
   ]
  },
  {
   "cell_type": "markdown",
   "metadata": {},
   "source": [
    "Next, we use RUX to discover the most prominent rules within each ensemble for interpretation. While interpreting the trained models, we use the rule length as a cost parameter."
   ]
  },
  {
   "cell_type": "code",
   "execution_count": 4,
   "metadata": {},
   "outputs": [
    {
     "name": "stdout",
     "output_type": "stream",
     "text": [
      "Set parameter Username\n",
      "Academic license - for non-commercial use only - expires 2023-09-14\n"
     ]
    }
   ],
   "source": [
    "# RUX(RF)\n",
    "RUXRF = RUXClassifier(trained_ensemble=RF,\n",
    "                        rule_length_cost=True,\n",
    "                        random_state=randomState)\n",
    "RUXRF_pred = RUXRF.fit(X_train, y_train).predict(X_test)\n",
    "\n",
    "# RUX(ADA)\n",
    "RUXADA = RUXClassifier(trained_ensemble=ADA,\n",
    "                        rule_length_cost=True,\n",
    "                        random_state=randomState)\n",
    "RUXADA_pred = RUXADA.fit(X_train, y_train).predict(X_test)\n",
    "\n",
    "# RUX(GB)\n",
    "RUXGB = RUXClassifier(trained_ensemble=GB,\n",
    "                        rule_length_cost=True,\n",
    "                        random_state=randomState)\n",
    "RUXGB_pred = RUXGB.fit(X_train, y_train).predict(X_test)"
   ]
  },
  {
   "cell_type": "markdown",
   "metadata": {},
   "source": [
    "Our second algorithm RUG itself is a classifier that can be trained like other learning algorithms."
   ]
  },
  {
   "cell_type": "code",
   "execution_count": 5,
   "metadata": {},
   "outputs": [],
   "source": [
    "#RUG\n",
    "RUG = RUGClassifier(max_depth=maxDepth,\n",
    "                    rule_length_cost=True,\n",
    "                    random_state=randomState)\n",
    "RUG_pred = RUG.fit(X_train, y_train).predict(X_test)"
   ]
  },
  {
   "cell_type": "markdown",
   "metadata": {},
   "source": [
    "Here are the accuracies that we obtain with all algorithms."
   ]
  },
  {
   "cell_type": "code",
   "execution_count": 6,
   "metadata": {},
   "outputs": [
    {
     "name": "stdout",
     "output_type": "stream",
     "text": [
      "## Accuracy Scores ##\n",
      "Random Forest:  0.9166666666666666\n",
      "AdaBoost:  0.8571428571428571\n",
      "Gradient Boosting:  0.8571428571428571\n",
      "RUX(RF):  0.7857142857142857\n",
      "RUX(ADA):  0.7857142857142857\n",
      "RUX(GB):  0.7857142857142857\n",
      "RUG:  0.8928571428571429\n"
     ]
    }
   ],
   "source": [
    "print('## Accuracy Scores ##')\n",
    "print('Random Forest: ', accuracy_score(RF_pred, y_test))\n",
    "print('AdaBoost: ', accuracy_score(ADA_pred, y_test)) \n",
    "print('Gradient Boosting: ', accuracy_score(GB_pred, y_test)) \n",
    "print('RUX(RF): ', accuracy_score(RUXRF_pred, y_test))\n",
    "print('RUX(ADA): ', accuracy_score(RUXADA_pred, y_test))\n",
    "print('RUX(GB): ', accuracy_score(RUXADA_pred, y_test))\n",
    "print('RUG: ', accuracy_score(RUG_pred, y_test))"
   ]
  },
  {
   "cell_type": "markdown",
   "metadata": {},
   "source": [
    "As you can see, we obtain good accuracies with all the methods. Let's see the total number of rules each method produces."
   ]
  },
  {
   "cell_type": "code",
   "execution_count": 7,
   "metadata": {},
   "outputs": [
    {
     "name": "stdout",
     "output_type": "stream",
     "text": [
      "## Number of Rules ##\n",
      "Random Forest:  761\n",
      "AdaBoost:  374\n",
      "Gradient Boosting:  792\n",
      "RUX(RF):  34\n",
      "RUX(ADA):  39\n",
      "RUX(GB):  32\n",
      "RUG:  15\n"
     ]
    }
   ],
   "source": [
    "print('## Number of Rules ##')\n",
    "print('Random Forest: ', RUXRF.get_init_num_of_rules())\n",
    "print('AdaBoost: ', RUXADA.get_init_num_of_rules())\n",
    "print('Gradient Boosting: ', RUXGB.get_init_num_of_rules())\n",
    "print('RUX(RF): ', RUXRF.get_num_of_rules())\n",
    "print('RUX(ADA): ', RUXADA.get_num_of_rules())\n",
    "print('RUX(GB): ', RUXGB.get_num_of_rules())\n",
    "print('RUG: ', RUG.get_num_of_rules())"
   ]
  },
  {
   "cell_type": "markdown",
   "metadata": {},
   "source": [
    "RUX and RUG models produce significantly less number of rules than the ensemble methods. In addition, we can also check the average number of rules per sample. This value could give us an idea about the difficulty of a local explanation."
   ]
  },
  {
   "cell_type": "code",
   "execution_count": 8,
   "metadata": {},
   "outputs": [
    {
     "name": "stdout",
     "output_type": "stream",
     "text": [
      "RUX(RF):  6.654761904761905\n",
      "RUX(ADA):  6.690476190476191\n",
      "RUX(GB):  6.380952380952381\n",
      "RUG:  2.7738095238095237\n"
     ]
    }
   ],
   "source": [
    "print('RUX(RF): ', RUXRF.get_avg_num_rules_per_sample())\n",
    "print('RUX(ADA): ', RUXADA.get_avg_num_rules_per_sample())\n",
    "print('RUX(GB): ', RUXGB.get_avg_num_rules_per_sample())\n",
    "print('RUG: ', RUG.get_avg_num_rules_per_sample())"
   ]
  },
  {
   "cell_type": "markdown",
   "metadata": {},
   "source": [
    "RUG produces on average less than three rules per sample for classification. We can also look at the discovered rules. Here are the **first five** rules sorted in descending order of weights."
   ]
  },
  {
   "cell_type": "code",
   "execution_count": 9,
   "metadata": {},
   "outputs": [
    {
     "name": "stdout",
     "output_type": "stream",
     "text": [
      "RULE 0:\n",
      "x[2] <= 0.74\n",
      "x[0] <= 0.62\n",
      "x[5] > 0.57\n",
      "\n",
      "Class: 1\n",
      "Scaled rule weight: 1.0000\n",
      "\n",
      "RULE 1:\n",
      "x[5] > 0.51\n",
      "x[2] > 0.74\n",
      "x[6] <= 0.61\n",
      "\n",
      "Class: 6\n",
      "Scaled rule weight: 0.9848\n",
      "\n",
      "RULE 2:\n",
      "x[1] > 0.56\n",
      "x[4] > 0.53\n",
      "x[6] <= 0.61\n",
      "\n",
      "Class: 5\n",
      "Scaled rule weight: 0.9376\n",
      "\n",
      "RULE 3:\n",
      "0.25 < x[6] <= 0.61\n",
      "x[4] > 0.65\n",
      "\n",
      "Class: 5\n",
      "Scaled rule weight: 0.9376\n",
      "\n",
      "RULE 4:\n",
      "0.62 < x[0] <= 0.75\n",
      "x[5] > 0.57\n",
      "\n",
      "Class: 1\n",
      "Scaled rule weight: 0.8222\n",
      "\n"
     ]
    }
   ],
   "source": [
    "RUG.print_rules(indices=range(5))"
   ]
  },
  {
   "cell_type": "code",
   "execution_count": 10,
   "metadata": {},
   "outputs": [
    {
     "data": {
      "image/png": "[encoded data removed]",
      "text/plain": [
       "<Figure size 432x288 with 2 Axes>"
      ]
     },
     "metadata": {
      "needs_background": "light"
     },
     "output_type": "display_data"
    }
   ],
   "source": [
    "import matplotlib.pyplot as plt\n",
    "import seaborn as sns\n",
    "\n",
    "selectedRuleNum = 10 \n",
    "\n",
    "weights = np.round(RUG.get_weights()[:selectedRuleNum], decimals=2)\n",
    "accuracies = []\n",
    "coverages = []\n",
    "\n",
    "for indx in range(min(selectedRuleNum, RUG.get_num_of_rules())):\n",
    "    # Use only the first indx+1 many rules for prediction\n",
    "    RUG_pred_test = RUG.predict(X_test, range(indx+1))\n",
    "    accuracies.append(accuracy_score(RUG_pred_test, y_test))\n",
    "    coverages.append(RUG.get_num_of_missed())\n",
    "    \n",
    "accuracies = np.round(accuracies, decimals=3)\n",
    "coverages = np.round(1.0-(np.array(coverages)/len(y)), decimals=2)*100\n",
    "coverages = np.round(coverages, decimals=1)\n",
    "txtmisses = [str(cover)+'%' for cover in coverages]\n",
    "\n",
    "\n",
    "# Plotting\n",
    "data = {'Rules': [indx+1 for indx in range(len(accuracies))],\n",
    "        'Weights': weights,\n",
    "        'Coverages': coverages,\n",
    "        'Accuracies': accuracies}\n",
    "\n",
    "df = pd.DataFrame(data, columns=data.keys())\n",
    "\n",
    "fig, ax1 = plt.subplots()\n",
    "sns.color_palette('pastel')\n",
    "\n",
    "bars = sns.barplot(data=df, x='Rules', y=weights, ax=ax1, \n",
    "                   color='green', alpha=0.3)\n",
    "\n",
    "for indx, txtmiss in enumerate(txtmisses):\n",
    "    bars.annotate(txtmiss, xy=(indx, weights[indx]+0.02), \n",
    "                  color='purple', horizontalalignment='center',\n",
    "                  fontsize=8)\n",
    "\n",
    "bars.axhline(1.0, color='lightgray', linestyle='--')\n",
    "    \n",
    "ax1.set_ylabel('Rule Weight', color='darkgreen')\n",
    "ax1.set_ylim([0.0, 1.1])\n",
    "\n",
    "ax2 = ax1.twinx()\n",
    "\n",
    "sns.pointplot(data=df, x='Rules', y='Accuracies', ax=ax2)\n",
    "ax2.set_ylabel('Accuracy', color='darkblue')\n",
    "ax2.set_ylim(ax1.get_ylim())\n",
    "ax2.grid(False)\n",
    "\n",
    "fig.tight_layout()"
   ]
  },
  {
   "cell_type": "markdown",
   "metadata": {},
   "source": [
    "This interpretation plot shows that RUG reaches a high accuracy with the first 10 rules that are ordered in terms of their normalized weights (bar heights). The percentages show the\n",
    "cumulative fractions of the samples covered after adding each rule."
   ]
  }
 ],
 "metadata": {
  "kernelspec": {
   "display_name": "Python 3 (ipykernel)",
   "language": "python",
   "name": "python3"
  },
  "language_info": {
   "codemirror_mode": {
    "name": "ipython",
    "version": 3
   },
   "file_extension": ".py",
   "mimetype": "text/x-python",
   "name": "python",
   "nbconvert_exporter": "python",
   "pygments_lexer": "ipython3",
   "version": "3.8.13"
  },
  "vscode": {
   "interpreter": {
    "hash": "bde80fbb3088cc745cb4d2c4229f0c109b326effd9eaaf13d529f3cffc0dfece"
   }
  }
 },
 "nbformat": 4,
 "nbformat_minor": 4
}
